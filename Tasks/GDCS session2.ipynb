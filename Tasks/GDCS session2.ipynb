{
 "cells": [
  {
   "cell_type": "code",
   "execution_count": 1,
   "id": "b1e303a7",
   "metadata": {},
   "outputs": [
    {
     "name": "stdout",
     "output_type": "stream",
     "text": [
      "______  ___     ______                        _________\n",
      "___   |/  /________  /_______ _______ ______________  /\n",
      "__  /|_/ /_  __ \\_  __ \\  __ `/_  __ `__ \\  _ \\  __  / \n",
      "_  /  / / / /_/ /  / / / /_/ /_  / / / / /  __/ /_/ /  \n",
      "/_/  /_/  \\____//_/ /_/\\__,_/ /_/ /_/ /_/\\___/\\__,_/   \n",
      "                                                       \n",
      "_____________ _________      ___________        _________            \n",
      "___    |__  /_______  /_____ ___  /__  /_______ ______  /____________\n",
      "__  /| |_  __ \\  __  /_  __ `/_  /__  //_/  __ `/  __  /_  _ \\_  ___/\n",
      "_  ___ |  /_/ / /_/ / / /_/ /_  / _  ,<  / /_/ // /_/ / /  __/  /    \n",
      "/_/  |_/_.___/\\__,_/  \\__,_/ /_/  /_/|_| \\__,_/ \\__,_/  \\___//_/     \n",
      "                                                                     \n",
      "\n"
     ]
    }
   ],
   "source": []
  },
  {
   "cell_type": "markdown",
   "id": "2bba87f8",
   "metadata": {},
   "source": [
    "## "
   ]
  },
  {
   "cell_type": "markdown",
   "id": "1546fbef",
   "metadata": {},
   "source": [
    "# First task"
   ]
  },
  {
   "cell_type": "markdown",
   "id": "75e0d694",
   "metadata": {},
   "source": [
    "### Exercise 1 : Print First 10 natural numbers using while loop"
   ]
  },
  {
   "cell_type": "code",
   "execution_count": 2,
   "id": "4f4e4318",
   "metadata": {},
   "outputs": [
    {
     "name": "stdout",
     "output_type": "stream",
     "text": [
      "1\n",
      "2\n",
      "3\n",
      "4\n",
      "5\n",
      "6\n",
      "7\n",
      "8\n",
      "9\n",
      "10\n"
     ]
    }
   ],
   "source": [
    "for counter in range(1,11):\n",
    "    print(counter)"
   ]
  },
  {
   "cell_type": "markdown",
   "id": "201dafd7",
   "metadata": {},
   "source": [
    "### Exercise 2:  Write a program to print the following number pattern using a loop.\n",
    "### 1 \n",
    "### 1 2 \n",
    "### 1 2 3 \n",
    "### 1 2 3 4 \n",
    "### 1 2 3 4 5\n"
   ]
  },
  {
   "cell_type": "code",
   "execution_count": 3,
   "id": "8ef03d5b",
   "metadata": {},
   "outputs": [
    {
     "name": "stdout",
     "output_type": "stream",
     "text": [
      "1 \n",
      "1 2 \n",
      "1 2 3 \n",
      "1 2 3 4 \n",
      "1 2 3 4 5 \n"
     ]
    }
   ],
   "source": [
    "for counter1 in range(1,6):\n",
    "    for counter2 in range(1,counter1+1):\n",
    "        print(counter2 , end=\" \")\n",
    "    print()"
   ]
  },
  {
   "cell_type": "markdown",
   "id": "e44cc663",
   "metadata": {},
   "source": [
    "### Exercise 3:  Write a program to accept a number from a user and calculate the sum of all numbers from 1 to a given number"
   ]
  },
  {
   "cell_type": "code",
   "execution_count": 4,
   "id": "9749c481",
   "metadata": {},
   "outputs": [
    {
     "name": "stdout",
     "output_type": "stream",
     "text": [
      "Enter your number : 6\n",
      "The sum is equal to 21\n"
     ]
    }
   ],
   "source": [
    "numbers_sum = 0\n",
    "for counter in range(1 , int(input(\"Enter your number : \"))+1 ):\n",
    "    numbers_sum += counter\n",
    "print(f\"The sum is equal to {numbers_sum}\")"
   ]
  },
  {
   "cell_type": "markdown",
   "id": "690122ec",
   "metadata": {},
   "source": [
    "### Exercise 4: Write a program to print multiplication table of a given number "
   ]
  },
  {
   "cell_type": "code",
   "execution_count": 5,
   "id": "e2097e4a",
   "metadata": {},
   "outputs": [
    {
     "name": "stdout",
     "output_type": "stream",
     "text": [
      "Enter your number : 3\n",
      "3\n",
      "6\n",
      "9\n",
      "12\n",
      "15\n",
      "18\n",
      "21\n",
      "24\n",
      "27\n",
      "30\n"
     ]
    }
   ],
   "source": [
    "number = int(input(\"Enter your number : \"))\n",
    "for counter in range(1,11):\n",
    "    print(counter * number)"
   ]
  },
  {
   "cell_type": "markdown",
   "id": "6a5f574d",
   "metadata": {},
   "source": [
    "### Exercise 5: Write a program to count the total number of digits in a number using a while loop"
   ]
  },
  {
   "cell_type": "code",
   "execution_count": 6,
   "id": "f2cc5c2c",
   "metadata": {},
   "outputs": [
    {
     "name": "stdout",
     "output_type": "stream",
     "text": [
      "666222\n",
      "The digits of 666222 is equal to 6\n"
     ]
    }
   ],
   "source": [
    "number = int(input())\n",
    "rest_of_the_number = number\n",
    "digits = 1\n",
    "\n",
    "while True:\n",
    "    if rest_of_the_number // 10 == 0:\n",
    "        break;\n",
    "    else:\n",
    "        digits += 1\n",
    "        rest_of_the_number = rest_of_the_number // 10\n",
    "        \n",
    "print(f\"The digits of {number} is equal to {digits}\")"
   ]
  },
  {
   "cell_type": "markdown",
   "id": "47b482bd",
   "metadata": {},
   "source": [
    "### Exercise 6: Write a program to use for loop to print the following reverse number pattern\n",
    "### 5 4 3 2 1 \n",
    "### 4 3 2 1 \n",
    "### 3 2 1 \n",
    "### 2 1 \n",
    "### 1\n"
   ]
  },
  {
   "cell_type": "code",
   "execution_count": 7,
   "id": "cd2bf8b3",
   "metadata": {},
   "outputs": [
    {
     "name": "stdout",
     "output_type": "stream",
     "text": [
      "Enter the number :9\n",
      "\n",
      "9 8 7 6 5 4 3 2 1 \n",
      "8 7 6 5 4 3 2 1 \n",
      "7 6 5 4 3 2 1 \n",
      "6 5 4 3 2 1 \n",
      "5 4 3 2 1 \n",
      "4 3 2 1 \n",
      "3 2 1 \n",
      "2 1 \n",
      "1 \n"
     ]
    }
   ],
   "source": [
    "num = int(input(\"Enter the number :\"))\n",
    "\n",
    "print()\n",
    "\n",
    "for counter1 in range(num,0,-1):\n",
    "    for counter2 in range(counter1 , 0 , -1):\n",
    "        print(str(counter2).rjust(len(str(num)),'0'),end=\" \")\n",
    "    print()"
   ]
  },
  {
   "cell_type": "markdown",
   "id": "a539bebd",
   "metadata": {},
   "source": [
    "###  Exercise 7: Display numbers from -10 to -1 using for loop"
   ]
  },
  {
   "cell_type": "code",
   "execution_count": 8,
   "id": "d39240f1",
   "metadata": {},
   "outputs": [
    {
     "name": "stdout",
     "output_type": "stream",
     "text": [
      "-10\n",
      "-9\n",
      "-8\n",
      "-7\n",
      "-6\n",
      "-5\n",
      "-4\n",
      "-3\n",
      "-2\n",
      "-1\n"
     ]
    }
   ],
   "source": [
    "for counter in range(-10,0):\n",
    "    print(counter)"
   ]
  },
  {
   "cell_type": "markdown",
   "id": "2f69e23b",
   "metadata": {},
   "source": [
    "### Exercise 8: Use else block to display a message “Done” after successful execution of for loop"
   ]
  },
  {
   "cell_type": "code",
   "execution_count": 9,
   "id": "48c61027",
   "metadata": {},
   "outputs": [
    {
     "name": "stdout",
     "output_type": "stream",
     "text": [
      "0\n",
      "1\n",
      "2\n",
      "3\n",
      "4\n",
      "Done!\n"
     ]
    }
   ],
   "source": [
    "for i in range(5):\n",
    "    print(i)\n",
    "else:\n",
    "    print(\"Done!\")"
   ]
  },
  {
   "cell_type": "markdown",
   "id": "1b4e498b",
   "metadata": {},
   "source": [
    "### Exercise 9: Write a program to display all prime numbers within a range"
   ]
  },
  {
   "cell_type": "code",
   "execution_count": 10,
   "id": "71b307b8",
   "metadata": {},
   "outputs": [
    {
     "name": "stdout",
     "output_type": "stream",
     "text": [
      "Enter the number : 100\n",
      "\n",
      "\n",
      "01- 2\n",
      "02- 3\n",
      "03- 4\n",
      "04- 5\n",
      "05- 7\n",
      "06- 11\n",
      "07- 13\n",
      "08- 17\n",
      "09- 19\n",
      "10- 23\n",
      "11- 29\n",
      "12- 31\n",
      "13- 37\n",
      "14- 41\n",
      "15- 43\n",
      "16- 47\n",
      "17- 53\n",
      "18- 59\n",
      "19- 61\n",
      "20- 67\n",
      "21- 71\n",
      "22- 73\n",
      "23- 79\n",
      "24- 83\n",
      "25- 89\n",
      "26- 97\n"
     ]
    }
   ],
   "source": [
    "number = int(input(\"Enter the number : \"))\n",
    "\n",
    "print(\"\\n\")\n",
    "prime_list = list()\n",
    "for counter1 in range(2,number+1):\n",
    "    is_prime = True\n",
    "    for counter2 in range(2,counter1//2):\n",
    "        if counter1%counter2 == 0:\n",
    "            is_prime = False\n",
    "            break;\n",
    "    if is_prime:\n",
    "        prime_list.append(counter1)\n",
    "\n",
    "\n",
    "for counter in range(len(prime_list)):\n",
    "    print(f\"{str(counter+1).rjust(len(str(len(prime_list))),'0')}- {prime_list[counter]}\")"
   ]
  },
  {
   "cell_type": "markdown",
   "id": "1ee4427c",
   "metadata": {},
   "source": [
    "### Exercise 10: Display Fibonacci series up to 10 terms "
   ]
  },
  {
   "cell_type": "code",
   "execution_count": 11,
   "id": "bf355531",
   "metadata": {},
   "outputs": [
    {
     "name": "stdout",
     "output_type": "stream",
     "text": [
      "Enter the length of series : 30\n",
      "\n",
      "\n",
      "0\n",
      "1\n",
      "1\n",
      "2\n",
      "3\n",
      "5\n",
      "8\n",
      "13\n",
      "21\n",
      "34\n",
      "55\n",
      "89\n",
      "144\n",
      "233\n",
      "377\n",
      "610\n",
      "987\n",
      "1597\n",
      "2584\n",
      "4181\n",
      "6765\n",
      "10946\n",
      "17711\n",
      "28657\n",
      "46368\n",
      "75025\n",
      "121393\n",
      "196418\n",
      "317811\n",
      "514229\n"
     ]
    }
   ],
   "source": [
    "num = int(input(\"Enter the length of series : \"))\n",
    "\n",
    "print(\"\\n\")\n",
    "a = 0\n",
    "b = 1\n",
    "print(a)\n",
    "print(b)\n",
    "for counter in range(num-2):\n",
    "    c = a+b\n",
    "    print(c)\n",
    "    a = b\n",
    "    b = c"
   ]
  },
  {
   "cell_type": "markdown",
   "id": "f311a602",
   "metadata": {},
   "source": [
    "### Exercise 12: Write a program to print the cube of all numbers from 1 to a given number"
   ]
  },
  {
   "cell_type": "code",
   "execution_count": 12,
   "id": "4b3381dc",
   "metadata": {},
   "outputs": [
    {
     "name": "stdout",
     "output_type": "stream",
     "text": [
      "Enter your number : 30\n",
      "\n",
      "\n",
      "1\n",
      "8\n",
      "27\n",
      "64\n",
      "125\n",
      "216\n",
      "343\n",
      "512\n",
      "729\n",
      "1000\n",
      "1331\n",
      "1728\n",
      "2197\n",
      "2744\n",
      "3375\n",
      "4096\n",
      "4913\n",
      "5832\n",
      "6859\n",
      "8000\n",
      "9261\n",
      "10648\n",
      "12167\n",
      "13824\n",
      "15625\n",
      "17576\n",
      "19683\n",
      "21952\n",
      "24389\n"
     ]
    }
   ],
   "source": [
    "number = int(input(\"Enter your number : \"))\n",
    "\n",
    "print(\"\\n\")\n",
    "for counter in range(1,number):\n",
    "    print(counter ** 3)"
   ]
  },
  {
   "cell_type": "markdown",
   "id": "abea17da",
   "metadata": {},
   "source": [
    "### Exercise 13: Write a program to print the following start pattern using the for loop\n",
    "#### * \n",
    "#### * * \n",
    "#### * * * \n",
    "#### * * * * \n",
    "#### * * * * * \n",
    "#### * * * * \n",
    "#### * * * \n",
    "#### * * \n",
    "#### *\n"
   ]
  },
  {
   "cell_type": "code",
   "execution_count": 13,
   "id": "7dd8b2d4",
   "metadata": {},
   "outputs": [
    {
     "name": "stdout",
     "output_type": "stream",
     "text": [
      "Enter the number of lines : 33\n",
      "\n",
      "\n",
      "* \n",
      "* * \n",
      "* * * \n",
      "* * * * \n",
      "* * * * * \n",
      "* * * * * * \n",
      "* * * * * * * \n",
      "* * * * * * * * \n",
      "* * * * * * * * * \n",
      "* * * * * * * * * * \n",
      "* * * * * * * * * * * \n",
      "* * * * * * * * * * * * \n",
      "* * * * * * * * * * * * * \n",
      "* * * * * * * * * * * * * * \n",
      "* * * * * * * * * * * * * * * \n",
      "* * * * * * * * * * * * * * * * \n",
      "* * * * * * * * * * * * * * * * * \n",
      "* * * * * * * * * * * * * * * * \n",
      "* * * * * * * * * * * * * * * \n",
      "* * * * * * * * * * * * * * \n",
      "* * * * * * * * * * * * * \n",
      "* * * * * * * * * * * * \n",
      "* * * * * * * * * * * \n",
      "* * * * * * * * * * \n",
      "* * * * * * * * * \n",
      "* * * * * * * * \n",
      "* * * * * * * \n",
      "* * * * * * \n",
      "* * * * * \n",
      "* * * * \n",
      "* * * \n",
      "* * \n",
      "* \n"
     ]
    }
   ],
   "source": [
    "lines_number = int(input(\"Enter the number of lines : \"))\n",
    "\n",
    "print(\"\\n\")\n",
    "for counter1 in range(1,lines_number + 1):\n",
    "    if counter1 <= lines_number // 2 + 1:\n",
    "        for counter2 in range(counter1):\n",
    "            print(\"*\", end=\" \")\n",
    "    else:\n",
    "        for counter2 in range( (lines_number // 2 + 1)- (counter1 - (lines_number // 2 + 1))):\n",
    "            print(\"*\", end=\" \")\n",
    "\n",
    "    print()"
   ]
  },
  {
   "cell_type": "markdown",
   "id": "d1b13e90",
   "metadata": {},
   "source": [
    "### "
   ]
  },
  {
   "cell_type": "markdown",
   "id": "323e3364",
   "metadata": {},
   "source": [
    "# Second task\n",
    "### https://docs.google.com/document/d/1YPZyNWaSuYrF1NV2o1TDsQcXj8l25R0Ui6gFAo-41hM/edit"
   ]
  },
  {
   "cell_type": "markdown",
   "id": "533c5058",
   "metadata": {},
   "source": [
    "### 6. Ask the user to enter a number x. Use the sep optional argument to print out x, 2x, 3x, 4x, and 5x, each separated by three dashes, like below."
   ]
  },
  {
   "cell_type": "code",
   "execution_count": 14,
   "id": "0e464900",
   "metadata": {},
   "outputs": [
    {
     "name": "stdout",
     "output_type": "stream",
     "text": [
      "Enter the number : 12\n",
      "12---24---36---48---60\n"
     ]
    }
   ],
   "source": [
    "number = int(input(\"Enter the number : \"))\n",
    "print(number, number*2, number*3, number*4, number*5, sep =\"---\")"
   ]
  },
  {
   "cell_type": "markdown",
   "id": "11ed6c54",
   "metadata": {},
   "source": [
    "### 7. Write a program that asks the user for a weight in kilograms and converts it to pounds. There are 2.2 pounds in a kilogram."
   ]
  },
  {
   "cell_type": "code",
   "execution_count": 15,
   "id": "6049b9f7",
   "metadata": {},
   "outputs": [
    {
     "name": "stdout",
     "output_type": "stream",
     "text": [
      "Enter the weight in KG :58.6\n",
      "\n",
      "There are 128.92 pounds in 58.6 kilograms\n"
     ]
    }
   ],
   "source": [
    "kilograms = float(input(\"Enter the weight in KG :\"))\n",
    "print()\n",
    "print(f\"There are {round(2.2* kilograms,3)} pounds in {kilograms} kilograms\")"
   ]
  },
  {
   "cell_type": "markdown",
   "id": "0931e55c",
   "metadata": {},
   "source": [
    "### 9. A lot of cell phones have tip calculators. Write one. Ask the user for the price of the meal and the percent tip they want to leave. Then print both the tip amount and the total bill with the tip included."
   ]
  },
  {
   "cell_type": "code",
   "execution_count": 16,
   "id": "59064fdb",
   "metadata": {},
   "outputs": [
    {
     "name": "stdout",
     "output_type": "stream",
     "text": [
      "Meal price = 100\n",
      "Tip % = 10\n",
      "The total bill = 110.0\n"
     ]
    }
   ],
   "source": [
    "meal_price = float(input(\"Meal price = \"))\n",
    "tip_percentage = float(input(\"Tip % = \"))\n",
    "\n",
    "print(f\"The total bill = {meal_price + meal_price * tip_percentage / 100 }\")"
   ]
  },
  {
   "cell_type": "markdown",
   "id": "eddf3d0c",
   "metadata": {},
   "source": [
    "### 6. Write a program that uses a for loop to print the numbers 100, 98, 96, . . . , 4, 2"
   ]
  },
  {
   "cell_type": "code",
   "execution_count": 17,
   "id": "aa0a47d2",
   "metadata": {},
   "outputs": [
    {
     "name": "stdout",
     "output_type": "stream",
     "text": [
      "100,98,96,94,92,90,88,86,84,82,80,78,76,74,72,70,68,66,64,62,60,58,56,54,52,50,48,46,44,42,40,38,36,34,32,30,28,26,24,22,20,18,16,14,12,10,8,6,4,2\n"
     ]
    }
   ],
   "source": [
    "for counter in range(100,0,-2):\n",
    "    if counter != 2:\n",
    "        print(counter , end= \",\")        \n",
    "    else:\n",
    "        print(counter)        "
   ]
  },
  {
   "cell_type": "markdown",
   "id": "fe6b9a78",
   "metadata": {},
   "source": [
    "### 7. Write a program that uses exactly four for loops to print the sequence of letters below.\n",
    "### AAAAAAAAAABBBBBBBCDCDCDCDEFFFFFFG"
   ]
  },
  {
   "cell_type": "code",
   "execution_count": 18,
   "id": "c84e3268",
   "metadata": {},
   "outputs": [
    {
     "name": "stdout",
     "output_type": "stream",
     "text": [
      "AAAAAAAAAABBBBBBBCDCDCDCDEFFFFFFG"
     ]
    }
   ],
   "source": [
    "for counter1 in range(10):\n",
    "    print(\"A\",end=\"\")\n",
    "    \n",
    "for counter2 in range(7):\n",
    "    print(\"B\",end=\"\")\n",
    "    \n",
    "for counter3 in range(4):\n",
    "    print(\"CD\",end=\"\")\n",
    "    \n",
    "for counter4 in range(8):\n",
    "    if counter4 == 0:\n",
    "        print(\"E\" , end=\"\")    \n",
    "    elif counter4 == 7:\n",
    "        print(\"G\" , end=\"\")        \n",
    "    else:\n",
    "        print(\"F\" , end=\"\")"
   ]
  },
  {
   "cell_type": "markdown",
   "id": "f83f5989",
   "metadata": {},
   "source": [
    "### 11. Use a for loop to print a box like the one showen in the book. Allow the user to specify how wide and how high the box should be.\n"
   ]
  },
  {
   "cell_type": "code",
   "execution_count": 19,
   "id": "f864313c",
   "metadata": {},
   "outputs": [
    {
     "name": "stdout",
     "output_type": "stream",
     "text": [
      "The number of lines = 15\n",
      "The length of each line = 30\n",
      "\n",
      "******************************\n",
      "*                            *\n",
      "*                            *\n",
      "*                            *\n",
      "*                            *\n",
      "*                            *\n",
      "*                            *\n",
      "*                            *\n",
      "*                            *\n",
      "*                            *\n",
      "*                            *\n",
      "*                            *\n",
      "*                            *\n",
      "*                            *\n",
      "******************************\n"
     ]
    }
   ],
   "source": [
    "lines_number = int(input(\"The number of lines = \"))\n",
    "line_len = int(input(\"The length of each line = \"))\n",
    "\n",
    "# lines_number = 4\n",
    "# line_len = 19\n",
    "\n",
    "print()\n",
    "\n",
    "for counter1 in range(lines_number):\n",
    "    if counter1 == 0 or counter1 == lines_number-1:\n",
    "        for counter2 in range(line_len):\n",
    "            print(\"*\",end=\"\")\n",
    "    else:\n",
    "        for counter3 in range(line_len):\n",
    "            if counter3 == 0 or counter3 == line_len-1:\n",
    "                print(\"*\",end=\"\")\n",
    "            else:\n",
    "                print(\" \",end=\"\")\n",
    "    print()\n",
    "        "
   ]
  },
  {
   "cell_type": "markdown",
   "id": "b3a7dc4b",
   "metadata": {},
   "source": [
    "### 12. Use a for loop to print a triangle like the one below. Allow the user to specify how high the triangle should be."
   ]
  },
  {
   "cell_type": "code",
   "execution_count": 20,
   "id": "7d22f09a",
   "metadata": {},
   "outputs": [
    {
     "name": "stdout",
     "output_type": "stream",
     "text": [
      "Enter the number of lines : 21\n",
      "*\n",
      "**\n",
      "***\n",
      "****\n",
      "*****\n",
      "******\n",
      "*******\n",
      "********\n",
      "*********\n",
      "**********\n",
      "***********\n",
      "************\n",
      "*************\n",
      "**************\n",
      "***************\n",
      "****************\n",
      "*****************\n",
      "******************\n",
      "*******************\n",
      "********************\n",
      "*********************\n"
     ]
    }
   ],
   "source": [
    "for counter1 in range(1,int(input(\"Enter the number of lines : \"))+1):\n",
    "    for counter2 in range(counter1):\n",
    "        print(\"*\", end= \"\" )\n",
    "    print()"
   ]
  },
  {
   "cell_type": "markdown",
   "id": "3f522c4b",
   "metadata": {},
   "source": [
    "### 13. Use a for loop to print an upside down triangle like the one below. Allow the user to specify how high the triangle should be."
   ]
  },
  {
   "cell_type": "code",
   "execution_count": 21,
   "id": "c6a7d525",
   "metadata": {},
   "outputs": [
    {
     "name": "stdout",
     "output_type": "stream",
     "text": [
      "Enter the number of lines : 21\n",
      "*********************\n",
      "********************\n",
      "*******************\n",
      "******************\n",
      "*****************\n",
      "****************\n",
      "***************\n",
      "**************\n",
      "*************\n",
      "************\n",
      "***********\n",
      "**********\n",
      "*********\n",
      "********\n",
      "*******\n",
      "******\n",
      "*****\n",
      "****\n",
      "***\n",
      "**\n",
      "*\n"
     ]
    }
   ],
   "source": [
    "for counter1 in range(int(input(\"Enter the number of lines : \")),0,-1):\n",
    "    for counter2 in range(counter1):\n",
    "        print(\"*\", end= \"\" )\n",
    "    print()"
   ]
  },
  {
   "cell_type": "markdown",
   "id": "d3ec011b",
   "metadata": {},
   "source": [
    "### 14. Use for loops to print a diamond like the one below. Allow the user to specify how high the diamond should be."
   ]
  },
  {
   "cell_type": "code",
   "execution_count": 22,
   "id": "3922bc3f",
   "metadata": {
    "scrolled": false
   },
   "outputs": [
    {
     "name": "stdout",
     "output_type": "stream",
     "text": [
      "Enter the number of lines (Odd number) :21\n",
      "\n",
      "\n",
      "     *     \n",
      "    ***    \n",
      "   *****   \n",
      "  *******  \n",
      " ********* \n",
      "***********\n",
      " ********* \n",
      "  *******  \n",
      "   *****   \n",
      "    ***    \n",
      "     *     \n"
     ]
    }
   ],
   "source": [
    "lines_number = int(input(\"Enter the number of lines (Odd number) :\"))\n",
    "\n",
    "# if lines_number %2 == 0:\n",
    "#     lines_number += 1\n",
    "\n",
    "print(\"\\n\")\n",
    "for counter1 in range(1,lines_number + 1,2):\n",
    "    line = \"\"\n",
    "    if counter1 <= lines_number // 2 + 1:\n",
    "        for counter2 in range(counter1):\n",
    "            line += \"*\"\n",
    "    else:\n",
    "        for counter2 in range( (lines_number // 2 + 1)- (counter1 - (lines_number // 2 + 1))):\n",
    "            line += \"*\"\n",
    "\n",
    "    print(str(line).center(lines_number//2+1))"
   ]
  },
  {
   "cell_type": "markdown",
   "id": "312232ab",
   "metadata": {},
   "source": [
    "### 15. Write a program that prints a giant letter A like the one below. Allow the user to specify how large the letter should be."
   ]
  },
  {
   "cell_type": "code",
   "execution_count": 23,
   "id": "68da92be",
   "metadata": {},
   "outputs": [
    {
     "name": "stdout",
     "output_type": "stream",
     "text": [
      "Enter the letter size : 30\n",
      "Enter the sympol : A\n",
      "\n",
      "                              A                              \n",
      "                             A A                             \n",
      "                            A   A                            \n",
      "                           A     A                           \n",
      "                          A       A                          \n",
      "                         A         A                         \n",
      "                        A           A                        \n",
      "                       A             A                       \n",
      "                      A               A                      \n",
      "                     A                 A                     \n",
      "                    A                   A                    \n",
      "                   A                     A                   \n",
      "                  A                       A                  \n",
      "                 A                         A                 \n",
      "                A                           A                \n",
      "               AAAAAAAAAAAAAAAAAAAAAAAAAAAAAAA               \n",
      "              A                               A              \n",
      "             A                                 A             \n",
      "            A                                   A            \n",
      "           A                                     A           \n",
      "          A                                       A          \n",
      "         A                                         A         \n",
      "        A                                           A        \n",
      "       A                                             A       \n",
      "      A                                               A      \n",
      "     A                                                 A     \n",
      "    A                                                   A    \n",
      "   A                                                     A   \n",
      "  A                                                       A  \n",
      " A                                                         A \n",
      "A                                                           A\n"
     ]
    }
   ],
   "source": [
    "lines_number = int(input(\"Enter the letter size : \"))\n",
    "sympol = input(\"Enter the sympol : \")[0]\n",
    "print()\n",
    "if lines_number % 2 == 0:\n",
    "    lines_number += 1\n",
    "    \n",
    "line_length = (lines_number -1)*2 +1\n",
    "\n",
    "for counter in range(lines_number ):\n",
    "    if counter == (lines_number-1) /2:\n",
    "        print(f\"{sympol*((2 * counter) +1)}\".center(line_length))\n",
    "    else:\n",
    "        spaces_number = (2 * counter) -1\n",
    "        if spaces_number == -1:\n",
    "            print(f\"{sympol}\".center(line_length))\n",
    "        else:\n",
    "            print(f\"{sympol}{' '*(spaces_number)}{sympol}\".center(line_length))\n",
    "#         (2*index) -1 \n",
    "#         * 0 - 0 \n",
    "#        * * 1 - 1\n",
    "#       *   * 2 - 3\n",
    "#      *     * 3 - 5\n",
    "#     *       * 4 - 7"
   ]
  },
  {
   "cell_type": "markdown",
   "id": "878e15dd",
   "metadata": {},
   "source": [
    "### 10. (a) One way to find out the last digit of a number is to mod the number by 10. Write a program that asks the user to enter a power. Then find the last digit of 2 raised to that power.\n",
    "### (b) One way to find out the last two digits of a number is to mod the number by 100. Write a program that asks the user to enter a power. Then find the last two digits of 2 raised to that power.\n",
    "### (c) Write a program that asks the user to enter a power and how many digits they want. Find the last that many digits of 2 raised to the power the user entered."
   ]
  },
  {
   "cell_type": "code",
   "execution_count": 24,
   "id": "f9900a46",
   "metadata": {
    "scrolled": false
   },
   "outputs": [
    {
     "name": "stdout",
     "output_type": "stream",
     "text": [
      "Enter the power : 123\n",
      "Enter how many digits : 10\n",
      "\n",
      "The number is 2 \n",
      "The power is 123 \n",
      "The result of 2 raised to 123 is 10633823966279326983230456482242756608\n",
      "\n",
      "The last 10 digits = 2242756608\n"
     ]
    }
   ],
   "source": [
    "# (a) and (b) | Answering question C will suffice \n",
    "\n",
    "# (c)\n",
    "\n",
    "power  = int(input(\"Enter the power : \"))\n",
    "digits = int(input(\"Enter how many digits : \"))\n",
    "\n",
    "print()\n",
    "\n",
    "result = (2 ** power)\n",
    "print(f\"The number is 2 \\nThe power is {power} \\nThe result of 2 raised to {power} is {result}\")\n",
    "\n",
    "print()\n",
    "\n",
    "print(f\"The last {digits} digits = {(result)%(10 ** digits)}\")"
   ]
  },
  {
   "cell_type": "markdown",
   "id": "f4f52739",
   "metadata": {},
   "source": [
    "### 8. A year is a leap year if it is divisible by 4, except that years divisible by 100 are not leap years unless they are also divisible by 400. Write a program that asks the user for a year and prints out whether it is a leap year or not."
   ]
  },
  {
   "cell_type": "code",
   "execution_count": 25,
   "id": "25be75be",
   "metadata": {},
   "outputs": [
    {
     "name": "stdout",
     "output_type": "stream",
     "text": [
      "Enter the year : 2020\n",
      "2020 is leap year\n"
     ]
    }
   ],
   "source": [
    "year = int(input(\"Enter the year : \"))\n",
    "if year % 4 == 0:\n",
    "    if year % 100 == 0:\n",
    "        if year % 400 == 0:\n",
    "            print(f\"{year} is leap year\")\n",
    "        else:\n",
    "            print(f\"{year} is not leap year\")            \n",
    "    else:\n",
    "        print(f\"{year} is leap year\")        \n",
    "else:\n",
    "    print(f\"{year} is not leap year\")    "
   ]
  },
  {
   "cell_type": "markdown",
   "id": "1d2e49d3",
   "metadata": {},
   "source": [
    "### 9. Write a program that asks the user to enter a number and prints out all the divisors of that number. "
   ]
  },
  {
   "cell_type": "code",
   "execution_count": 26,
   "id": "dda31249",
   "metadata": {},
   "outputs": [
    {
     "name": "stdout",
     "output_type": "stream",
     "text": [
      "Enter the number : 100\n",
      "\n",
      "The divisors -> [1, 2, 4, 5, 10, 20, 25, 50, 100]\n"
     ]
    }
   ],
   "source": [
    "divisors_sum = 0\n",
    "divisors_list = list()\n",
    "\n",
    "number = int(input(\"Enter the number : \"))\n",
    "for counter in range(1, number+1):\n",
    "    if number % counter == 0:\n",
    "        divisors_sum += counter\n",
    "        divisors_list.append(counter)\n",
    "        \n",
    "print()\n",
    "print(\"The divisors ->\", divisors_list)"
   ]
  },
  {
   "cell_type": "markdown",
   "id": "c4dca918",
   "metadata": {},
   "source": [
    "### 10. Write a multiplication game program for kids. The program should give the player ten randomly generated multiplication questions to do. After each, the program should tell the whether they got it right or wrong and what the correct answer is.\n",
    "\n",
    "#### Question 1: 3 x 4 = 12\n",
    "#### Right!\n",
    "#### Question 2: 8 x 6 = 44\n",
    "#### Wrong. The answer is 48.\n",
    "#### ...\n",
    "#### ...\n",
    "#### Question 10: 7 x 7 = 49\n",
    "#### Right.\n"
   ]
  },
  {
   "cell_type": "code",
   "execution_count": 27,
   "id": "97cdaea9",
   "metadata": {},
   "outputs": [
    {
     "name": "stdout",
     "output_type": "stream",
     "text": [
      "Enter your name : Mohamed Abdalkader\n",
      "The number of questions : 10\n",
      "\n",
      "Question 01 -> 10 X 5 = 50\n",
      "Right!\n",
      "Question 02 -> 7 X 9 = 63\n",
      "Right!\n",
      "Question 03 -> 6 X 8 = 48\n",
      "Right!\n",
      "Question 04 -> 4 X 4 = 16\n",
      "Right!\n",
      "Question 05 -> 10 X 1 = 10\n",
      "Right!\n",
      "Question 06 -> 5 X 8 = 40\n",
      "Right!\n",
      "Question 07 -> 10 X 3 = 30\n",
      "Right!\n",
      "Question 08 -> 2 X 8 = 16\n",
      "Right!\n",
      "Question 09 -> 4 X 2 = 8\n",
      "Right!\n",
      "Question 10 -> 5 X 1 = 5\n",
      "Right!\n",
      "\n",
      "Great job Mohamed Abdalkader | You get 100.0% at 17.18 seconds\n",
      "\n",
      "Do you want tot play again? [Yes | No] : YES\n",
      "The number of questions : 10\n",
      "\n",
      "Question 01 -> 9 X 6 = 54\n",
      "Right!\n",
      "Question 02 -> 3 X 8 = 24\n",
      "Right!\n",
      "Question 03 -> 1 X 5 = 5\n",
      "Right!\n",
      "Question 04 -> 2 X 8 = 16\n",
      "Right!\n",
      "Question 05 -> 5 X 4 = 20\n",
      "Right!\n",
      "Question 06 -> 7 X 5 = 35\n",
      "Right!\n",
      "Question 07 -> 3 X 1 = 3\n",
      "Right!\n",
      "Question 08 -> 4 X 5 = 20\n",
      "Right!\n",
      "Question 09 -> 5 X 5 = 25\n",
      "Right!\n",
      "Question 10 -> 1 X 2 = 2\n",
      "Right!\n",
      "\n",
      "Great job Mohamed Abdalkader | You get 100.0% at 19.75 seconds\n",
      "\n",
      "Do you want tot play again? [Yes | No] : NO\n"
     ]
    }
   ],
   "source": [
    "from random import randint\n",
    "from time import time \n",
    "\n",
    "name = input(\"Enter your name : \")\n",
    "\n",
    "while True:\n",
    "    number_of_quesions = int(input(\"The number of questions : \"))\n",
    "\n",
    "    print()\n",
    "    points = 0\n",
    "\n",
    "    start_time = time()\n",
    "    for counter in range(1, number_of_quesions+1):\n",
    "        first_number  = randint(1, 10)\n",
    "        second_number = randint(1, 10)\n",
    "\n",
    "        result = first_number * second_number\n",
    "\n",
    "        user_result = int(input(f\"Question {str(counter).rjust(len(str(number_of_quesions)), '0')} -> {first_number} X {second_number} = \"))\n",
    "\n",
    "        if user_result == result:\n",
    "            print(\"Right!\")\n",
    "            points += 1\n",
    "        else:\n",
    "            print(f\"Wrong! The correct answer is {result} | your answer was {user_result}\")\n",
    "\n",
    "    print()\n",
    "    final_result_percentage = round(points/number_of_quesions *100 , 2)\n",
    "    if final_result_percentage >= 50:\n",
    "        print(f\"Great job {name} | You get {final_result_percentage}% at {round(time() - start_time,2)} seconds\")\n",
    "    else:\n",
    "        print(f\"Unfortunately | You get {final_result_percentage}% at {round(time() - start_time,2)} seconds\")   \n",
    "    \n",
    "    print()\n",
    "    \n",
    "    play_again = input(\"Do you want tot play again? [Yes | No] : \")\n",
    "    if play_again.lower() in [\"n\" , \"no\"]:\n",
    "        break;"
   ]
  },
  {
   "cell_type": "markdown",
   "id": "dc10894b",
   "metadata": {},
   "source": [
    "### 11. Write a program that asks the user for an hour between 1 and 12, asks them to enter am or pm, and asks them how many hours into the future they want to go. Print out what the hour will be that many hours into the future, printing am or pm as appropriate. An example is shown below.\n",
    "\n",
    "### Enter hour: 8\n",
    "### am (1) or pm (2)? 1\n",
    "### How many hours ahead? 5\n",
    "### New hour: 1 pm"
   ]
  },
  {
   "cell_type": "code",
   "execution_count": 28,
   "id": "396bd39e",
   "metadata": {},
   "outputs": [
    {
     "name": "stdout",
     "output_type": "stream",
     "text": [
      "Enter the current time : 7\n",
      "[AM | PM] ? : PM\n",
      "How many hours ahead? : 20\n",
      "\n",
      "The current time = 7 PM\n",
      "Added time       = 20 hours \n",
      "The time will be = 3 PM\n"
     ]
    }
   ],
   "source": [
    "current_time = int(input(\"Enter the current time : \"))\n",
    "\n",
    "while True:\n",
    "    am_or_pm = input(\"[AM | PM] ? : \")\n",
    "    if am_or_pm.lower() == \"am\":\n",
    "        am_or_pm = [\"AM\",\"PM\"]\n",
    "        break;\n",
    "    elif am_or_pm.lower() == \"pm\":\n",
    "        am_or_pm = [\"PM\",\"AM\"]        \n",
    "        break;\n",
    "\n",
    "hours = int(input(\"How many hours ahead? : \"))\n",
    "\n",
    "print()\n",
    "\n",
    "print(f\"The current time = {current_time} {am_or_pm[0]}\\nAdded time       = {hours} hours \\nThe time will be = {(current_time + hours)%12} {am_or_pm[0] if ((current_time + hours)//12)%2 == 0 else am_or_pm[1]}\")\n"
   ]
  },
  {
   "cell_type": "markdown",
   "id": "d43502a3",
   "metadata": {},
   "source": [
    "### 2. Write a program that counts how many of the squares of the numbers from 1 to 100 end in a 4 and how many end in a 9.\n"
   ]
  },
  {
   "cell_type": "code",
   "execution_count": 29,
   "id": "54ad9751",
   "metadata": {},
   "outputs": [
    {
     "name": "stdout",
     "output_type": "stream",
     "text": [
      "Enter the number : 100\n",
      "There are 20 endss with 4 \n",
      "[4, 64, 144, 324, 484, 784, 1024, 1444, 1764, 2304, 2704, 3364, 3844, 4624, 5184, 6084, 6724, 7744, 8464, 9604]\n",
      "\n",
      "There are 20 endss with 9 \n",
      "[9, 49, 169, 289, 529, 729, 1089, 1369, 1849, 2209, 2809, 3249, 3969, 4489, 5329, 5929, 6889, 7569, 8649, 9409]\n"
     ]
    }
   ],
   "source": [
    "import numpy as np\n",
    "ends_with_4_list = list()\n",
    "\n",
    "ends_with_9_list = list()\n",
    "\n",
    "for counter in range(1,int(input(\"Enter the number : \")) +1):\n",
    "    if (counter ** 2) % 10 == 4:\n",
    "        ends_with_4_list.append(counter ** 2)\n",
    "    elif (counter ** 2) % 10 == 9:\n",
    "        ends_with_9_list.append(counter ** 2)\n",
    "        \n",
    "print(f\"There are {len(ends_with_4_list)} endss with 4 \\n{ends_with_4_list}\")\n",
    "\n",
    "print()\n",
    "\n",
    "print(f\"There are {len(ends_with_9_list)} endss with 9 \\n{ends_with_9_list}\")"
   ]
  },
  {
   "cell_type": "markdown",
   "id": "f8012883",
   "metadata": {},
   "source": [
    "### 4. Write a program to compute the sum 1 − 2 + 3 − 4 + ··· + 1999 − 2000."
   ]
  },
  {
   "cell_type": "code",
   "execution_count": 30,
   "id": "1eadd511",
   "metadata": {},
   "outputs": [
    {
     "name": "stdout",
     "output_type": "stream",
     "text": [
      "Enter the number : 2000\n",
      "-1000\n",
      "Time -> 0.0\n"
     ]
    }
   ],
   "source": [
    "from time import time\n",
    "\n",
    "number = int(input(\"Enter the number : \"))\n",
    "# number = 9888444\n",
    "\n",
    "start = time()\n",
    "\n",
    "if number % 2 == 0:\n",
    "    print(-1 * number//2)\n",
    "else:\n",
    "    print((-1 * (number-1)//2) + number)\n",
    "    \n",
    "# result = 0\n",
    "# for counter in range(1, number+1):\n",
    "#     if counter %2 == 0:\n",
    "#         result += -1 * counter\n",
    "#     else:\n",
    "#         result += counter\n",
    "# print(result)\n",
    "\n",
    "\n",
    "print(\"Time ->\",time() - start)"
   ]
  },
  {
   "cell_type": "markdown",
   "id": "f257e84d",
   "metadata": {},
   "source": [
    "### 5. Write a program that asks the user to enter a number and prints the sum of the divisors of that number. The sum of the divisors of a number is an important function in number theory"
   ]
  },
  {
   "cell_type": "code",
   "execution_count": 31,
   "id": "18245948",
   "metadata": {},
   "outputs": [
    {
     "name": "stdout",
     "output_type": "stream",
     "text": [
      "Enter the number : 100\n",
      "The sum of the divisors of 100 is 217\n",
      "\n",
      "The divisors -> [1, 2, 4, 5, 10, 20, 25, 50, 100]\n"
     ]
    }
   ],
   "source": [
    "divisors_sum = 0\n",
    "divisors_list = list()\n",
    "\n",
    "number = int(input(\"Enter the number : \"))\n",
    "for counter in range(1, number+1):\n",
    "    if number % counter == 0:\n",
    "        divisors_sum += counter\n",
    "        divisors_list.append(counter)\n",
    "        \n",
    "print(f\"The sum of the divisors of {number} is {divisors_sum}\")\n",
    "print()\n",
    "print(\"The divisors ->\", divisors_list)"
   ]
  },
  {
   "cell_type": "markdown",
   "id": "7b622298",
   "metadata": {},
   "source": [
    "### 6. A number is called a perfect number if it is equal to the sum of all of its divisors, not including the number itself. For instance, 6 is a perfect number because the divisors of 6 are 1, 2, 3, 6 and 6 = 1 + 2 + 3. As another example, 28 is a perfect number because its divisors are 1, 2, 4, 7, 14, 28 and 28 = 1 + 2 + 4 + 7 + 14. However, 15 is not a perfect number because its divisors are 1, 3, 5, 15 and 15 6= 1 + 3 + 5. Write a program that finds all four of the perfect numbers that are less than 10000."
   ]
  },
  {
   "cell_type": "code",
   "execution_count": 32,
   "id": "7a69fe3b",
   "metadata": {},
   "outputs": [
    {
     "name": "stdout",
     "output_type": "stream",
     "text": [
      "Enter the number : 10000\n",
      "\n",
      "There are 4 perfict numbers exist from 1 to 10000.\n",
      "Number      6 | Divisors [1, 2, 3]\n",
      "Number     28 | Divisors [1, 2, 4, 7, 14]\n",
      "Number    496 | Divisors [1, 2, 4, 8, 16, 31, 62, 124, 248]\n",
      "Number   8128 | Divisors [1, 2, 4, 8, 16, 32, 64, 127, 254, 508, 1016, 2032, 4064]\n"
     ]
    }
   ],
   "source": [
    "perfict_numbers_dict = dict()\n",
    "\n",
    "number = int(input(\"Enter the number : \"))\n",
    "\n",
    "for counter1 in range(2, number + 1):\n",
    "    divisors_sum = 0\n",
    "    divisors_list = list()\n",
    "    for counter2 in range(1, counter1):\n",
    "        if counter1 % counter2 == 0:\n",
    "            divisors_sum += counter2\n",
    "            divisors_list.append(counter2)\n",
    "    \n",
    "    if counter1 == sum(divisors_list):\n",
    "        perfict_numbers_dict[counter1] = divisors_list\n",
    "        \n",
    "print(f\"\\nThere are {len(perfict_numbers_dict)} perfict numbers exist from 1 to {number}.\")\n",
    "for number, divisors_list in perfict_numbers_dict.items():\n",
    "    print(f\"Number {str(number).rjust(6)} | Divisors {divisors_list}\")"
   ]
  },
  {
   "cell_type": "markdown",
   "id": "b837924c",
   "metadata": {},
   "source": [
    "### "
   ]
  },
  {
   "cell_type": "code",
   "execution_count": 33,
   "id": "5d52ea17",
   "metadata": {},
   "outputs": [
    {
     "name": "stdout",
     "output_type": "stream",
     "text": [
      "______  ___     ______                        _________\n",
      "___   |/  /________  /_______ _______ ______________  /\n",
      "__  /|_/ /_  __ \\_  __ \\  __ `/_  __ `__ \\  _ \\  __  / \n",
      "_  /  / / / /_/ /  / / / /_/ /_  / / / / /  __/ /_/ /  \n",
      "/_/  /_/  \\____//_/ /_/\\__,_/ /_/ /_/ /_/\\___/\\__,_/   \n",
      "                                                       \n",
      "_____________ _________      ___________        _________            \n",
      "___    |__  /_______  /_____ ___  /__  /_______ ______  /____________\n",
      "__  /| |_  __ \\  __  /_  __ `/_  /__  //_/  __ `/  __  /_  _ \\_  ___/\n",
      "_  ___ |  /_/ / /_/ / / /_/ /_  / _  ,<  / /_/ // /_/ / /  __/  /    \n",
      "/_/  |_/_.___/\\__,_/  \\__,_/ /_/  /_/|_| \\__,_/ \\__,_/  \\___//_/     \n",
      "                                                                     \n",
      "\n",
      "\n",
      "\n",
      "\n",
      "\n",
      "\n",
      "________              \n",
      "___  __ )____  ______ \n",
      "__  __  |_  / / /  _ \\\n",
      "_  /_/ /_  /_/ //  __/\n",
      "/_____/ _\\__, / \\___/ \n",
      "        /____/        \n",
      "\n"
     ]
    }
   ],
   "source": []
  }
 ],
 "metadata": {
  "kernelspec": {
   "display_name": "Python 3 (ipykernel)",
   "language": "python",
   "name": "python3"
  },
  "language_info": {
   "codemirror_mode": {
    "name": "ipython",
    "version": 3
   },
   "file_extension": ".py",
   "mimetype": "text/x-python",
   "name": "python",
   "nbconvert_exporter": "python",
   "pygments_lexer": "ipython3",
   "version": "3.9.7"
  }
 },
 "nbformat": 4,
 "nbformat_minor": 5
}
